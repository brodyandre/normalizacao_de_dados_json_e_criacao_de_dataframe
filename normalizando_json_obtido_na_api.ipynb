{
  "nbformat": 4,
  "nbformat_minor": 0,
  "metadata": {
    "colab": {
      "provenance": [],
      "authorship_tag": "ABX9TyMZ3EjnyKdXr0L1jlKTOOam",
      "include_colab_link": true
    },
    "kernelspec": {
      "name": "python3",
      "display_name": "Python 3"
    },
    "language_info": {
      "name": "python"
    }
  },
  "cells": [
    {
      "cell_type": "markdown",
      "metadata": {
        "id": "view-in-github",
        "colab_type": "text"
      },
      "source": [
        "<a href=\"https://colab.research.google.com/github/brodyandre/normalizacao_de_dados_json_e_criacao_de_dataframe/blob/main/normalizando_json_obtido_na_api.ipynb\" target=\"_parent\"><img src=\"https://colab.research.google.com/assets/colab-badge.svg\" alt=\"Open In Colab\"/></a>"
      ]
    },
    {
      "cell_type": "markdown",
      "source": [
        "# **Documentação do Código: Normalização de Dados JSON e Criação de DataFrame**\n",
        "\n",
        "## 📝 **Objetivo**\n",
        "O objetivo deste código é fazer a normalização de dados JSON aninhados obtidos a partir de uma API externa e organizá-los em um DataFrame do pandas. Esse processo facilita a análise e visualização dos dados, separando colunas aninhadas e criando um formato tabular.\n",
        "\n",
        "---\n",
        "\n",
        "## ⚙️ **Passo a Passo do Código**\n",
        "\n",
        "# 1. **Importação das Bibliotecas**\n",
        "O código começa importando as bibliotecas necessárias:\n",
        "\n",
        "```python\n",
        "import pandas as pd\n",
        "import requests\n"
      ],
      "metadata": {
        "id": "MrthB4gD_IhC"
      }
    },
    {
      "cell_type": "markdown",
      "source": [
        "*   pandas (pd): Biblioteca essencial para manipulação e análise de dados em Python. Utilizada para criar e manipular DataFrames.\n",
        "*   requests: Biblioteca que permite fazer requisições HTTP, sendo usada para obter dados da API externa.\n",
        "\n",
        "\n",
        "\n"
      ],
      "metadata": {
        "id": "pWcIJMzg_TfH"
      }
    },
    {
      "cell_type": "markdown",
      "source": [
        "# 2. Obtenção dos Dados JSON\n",
        "A seguir, a URL da API https://jsonplaceholder.typicode.com/users é acessada, e os dados são carregados em formato JSON."
      ],
      "metadata": {
        "id": "bmJx651a_mr5"
      }
    },
    {
      "cell_type": "code",
      "source": [
        "import pandas as pd\n",
        "import requests\n",
        "\n",
        "url = 'https://jsonplaceholder.typicode.com/users'\n",
        "response = requests.get(url)\n",
        "data = response.json()"
      ],
      "metadata": {
        "id": "YLT5fxVF_q6c"
      },
      "execution_count": 14,
      "outputs": []
    },
    {
      "cell_type": "markdown",
      "source": [
        "*   requests.get(url): Realiza uma requisição HTTP GET para obter os dados da API.\n",
        "*   response.json(): Converte a resposta da requisição em formato JSON.\n",
        "\n"
      ],
      "metadata": {
        "id": "utopY9G0_xj4"
      }
    },
    {
      "cell_type": "markdown",
      "source": [
        "# 3. Criação do DataFrame Principal\n",
        "O DataFrame principal é criado a partir dos dados JSON obtidos."
      ],
      "metadata": {
        "id": "AemhKnNV_8O1"
      }
    },
    {
      "cell_type": "code",
      "source": [
        "df = pd.DataFrame(data)"
      ],
      "metadata": {
        "id": "pmaNCZ5BAAs1"
      },
      "execution_count": 15,
      "outputs": []
    },
    {
      "cell_type": "markdown",
      "source": [
        "*   pd.DataFrame(data): Converte os dados JSON em um DataFrame, que é uma estrutura tabular com linhas e colunas."
      ],
      "metadata": {
        "id": "RlGpzyo2AEq3"
      }
    },
    {
      "cell_type": "markdown",
      "source": [
        "# 4. Normalização das Colunas Aninhadas\n",
        "Aqui, as colunas que contêm dicionários (como address e company) são normalizadas para expandir as informações internas em colunas separadas."
      ],
      "metadata": {
        "id": "YC2z4inFAZJ5"
      }
    },
    {
      "cell_type": "code",
      "source": [
        "address_df = pd.json_normalize(df['address'])\n",
        "company_df = pd.json_normalize(df['company'])\n"
      ],
      "metadata": {
        "id": "MjYaJliAAeDn"
      },
      "execution_count": 16,
      "outputs": []
    },
    {
      "cell_type": "markdown",
      "source": [
        "*   pd.json_normalize(): Expande os dicionários aninhados em colunas separadas.\n",
        "*   df['address']: Seleciona a coluna address do DataFrame original, que é um dicionário.\n",
        "*   df['company']: Seleciona a coluna company do DataFrame original, que também é um dicionário.\n",
        "\n",
        "\n"
      ],
      "metadata": {
        "id": "Xlli8ELeAjWQ"
      }
    },
    {
      "cell_type": "markdown",
      "source": [
        "# 5. Renomeação das Colunas Normalizadas\n",
        "Para evitar que as colunas se sobreponham ao mesclar os DataFrames, as colunas normalizadas são renomeadas com prefixos."
      ],
      "metadata": {
        "id": "DHL42NNIA4ct"
      }
    },
    {
      "cell_type": "code",
      "source": [
        "address_df.columns = [f\"address_{col}\" for col in address_df.columns]\n",
        "company_df.columns = [f\"company_{col}\" for col in company_df.columns]\n"
      ],
      "metadata": {
        "id": "886A6_bFA-Su"
      },
      "execution_count": 17,
      "outputs": []
    },
    {
      "cell_type": "markdown",
      "source": [
        "*   f\"address_{col}\": Adiciona o prefixo address_ às colunas de address.\n",
        "\n",
        "*   f\"company_{col}\": Adiciona o prefixo company_ às colunas de company.\n",
        "\n"
      ],
      "metadata": {
        "id": "tvnm1951BAJq"
      }
    },
    {
      "cell_type": "markdown",
      "source": [
        "6. Concatenando os DataFrames\n",
        "Agora, os DataFrames normalizados são concatenados ao DataFrame principal, df.#"
      ],
      "metadata": {
        "id": "irhumgvQBNbu"
      }
    },
    {
      "cell_type": "code",
      "source": [
        "df = pd.concat([df, address_df, company_df], axis=1)"
      ],
      "metadata": {
        "id": "xex6y5gYBTt5"
      },
      "execution_count": 18,
      "outputs": []
    },
    {
      "cell_type": "markdown",
      "source": [
        "* pd.concat(): Junta os DataFrames. O parâmetro axis=1 especifica que a concatenação será feita nas colunas (lado a lado)."
      ],
      "metadata": {
        "id": "UMmuH6C0BV9b"
      }
    },
    {
      "cell_type": "markdown",
      "source": [
        "# 7. Remoção das Colunas Aninhadas Originais\n",
        "Após a normalização, as colunas originais address e company, que eram aninhadas, são removidas do DataFrame principal."
      ],
      "metadata": {
        "id": "Qk8RBb1JBeXe"
      }
    },
    {
      "cell_type": "code",
      "source": [
        "df = df.drop(columns=['address', 'company'])"
      ],
      "metadata": {
        "id": "k2vmEjI7BiQY"
      },
      "execution_count": 19,
      "outputs": []
    },
    {
      "cell_type": "markdown",
      "source": [
        "* df.drop(): Remove as colunas especificadas do DataFrame."
      ],
      "metadata": {
        "id": "n-xaCAjtBkZc"
      }
    },
    {
      "cell_type": "markdown",
      "source": [
        "# 8. Exibição do DataFrame Final\n",
        "Por fim, o DataFrame final, que agora contém as informações normalizadas, é exibido."
      ],
      "metadata": {
        "id": "l3QEhjNxBrMf"
      }
    },
    {
      "cell_type": "code",
      "source": [
        "print(df.head())"
      ],
      "metadata": {
        "colab": {
          "base_uri": "https://localhost:8080/"
        },
        "id": "eXtdNcEsBwLV",
        "outputId": "1ad9ce27-4e9b-44cf-909e-b1c1ff574741"
      },
      "execution_count": 20,
      "outputs": [
        {
          "output_type": "stream",
          "name": "stdout",
          "text": [
            "   id              name   username                      email  \\\n",
            "0   1     Leanne Graham       Bret          Sincere@april.biz   \n",
            "1   2      Ervin Howell  Antonette          Shanna@melissa.tv   \n",
            "2   3  Clementine Bauch   Samantha         Nathan@yesenia.net   \n",
            "3   4  Patricia Lebsack   Karianne  Julianne.OConner@kory.org   \n",
            "4   5  Chelsey Dietrich     Kamren   Lucio_Hettinger@annie.ca   \n",
            "\n",
            "                   phone        website     address_street address_suite  \\\n",
            "0  1-770-736-8031 x56442  hildegard.org        Kulas Light      Apt. 556   \n",
            "1    010-692-6593 x09125  anastasia.net      Victor Plains     Suite 879   \n",
            "2         1-463-123-4447    ramiro.info  Douglas Extension     Suite 847   \n",
            "3      493-170-9623 x156       kale.biz        Hoeger Mall      Apt. 692   \n",
            "4          (254)954-1289   demarco.info       Skiles Walks     Suite 351   \n",
            "\n",
            "    address_city address_zipcode address_geo.lat address_geo.lng  \\\n",
            "0    Gwenborough      92998-3874        -37.3159         81.1496   \n",
            "1    Wisokyburgh      90566-7771        -43.9509        -34.4618   \n",
            "2  McKenziehaven      59590-4157        -68.6102        -47.0653   \n",
            "3    South Elvis      53919-4257         29.4572       -164.2990   \n",
            "4     Roscoeview           33263        -31.8129         62.5342   \n",
            "\n",
            "         company_name                       company_catchPhrase  \\\n",
            "0     Romaguera-Crona    Multi-layered client-server neural-net   \n",
            "1        Deckow-Crist            Proactive didactic contingency   \n",
            "2  Romaguera-Jacobson         Face to face bifurcated interface   \n",
            "3       Robel-Corkery  Multi-tiered zero tolerance productivity   \n",
            "4         Keebler LLC      User-centric fault-tolerant solution   \n",
            "\n",
            "                             company_bs  \n",
            "0           harness real-time e-markets  \n",
            "1      synergize scalable supply-chains  \n",
            "2       e-enable strategic applications  \n",
            "3  transition cutting-edge web services  \n",
            "4      revolutionize end-to-end systems  \n"
          ]
        }
      ]
    },
    {
      "cell_type": "markdown",
      "source": [
        "* df.head(): Exibe as primeiras 5 linhas do DataFrame."
      ],
      "metadata": {
        "id": "Me-3LLOEByZd"
      }
    },
    {
      "cell_type": "markdown",
      "source": [
        "📊 Saída Esperada\n",
        "Após a execução do código, a saída será um DataFrame organizado, onde as colunas aninhadas (address e company) são expandidas em múltiplas colunas, como mostrado abaixo:\n",
        "\n",
        "\n"
      ],
      "metadata": {
        "id": "2FzTCMQHCAWx"
      }
    },
    {
      "cell_type": "markdown",
      "source": [
        "| id  | name          | username | email                                         | phone                 | website       | address\\_street | address\\_suite | address\\_city | address\\_zipcode | address\\_geo\\_lat | address\\_geo\\_lng | company\\_name   | company\\_catchPhrase                   | company\\_bs                 |\n",
        "| --- | ------------- | -------- | --------------------------------------------- | --------------------- | ------------- | --------------- | -------------- | ------------- | ---------------- | ----------------- | ----------------- | --------------- | -------------------------------------- | --------------------------- |\n",
        "| 1   | Leanne Graham | Bret     | [Sincere@april.biz](mailto:Sincere@april.biz) | 1-770-736-8031 x56442 | hildegard.org | Kulas Light     | Apt. 556       | Gwenborough   | 92998-3874       | -37.3159          | 81.1496           | Romaguera-Crona | Multi-layered client-server neural-net | harness real-time e-markets |\n",
        "| ... | ...           | ...      | ...                                           | ...                   | ...           | ...             | ...            | ...           | ...              | ...               | ...               | ...             | ...                                    | ...                         |\n"
      ],
      "metadata": {
        "id": "mMMqV747CMa4"
      }
    },
    {
      "cell_type": "markdown",
      "source": [
        "# 🗂️ Conclusão\n",
        "Este código é útil para lidar com dados JSON com estrutura aninhada, convertendo-os para um formato tabular adequado para análise em Python usando pandas. Após a normalização, os dados podem ser facilmente manipulados, visualizados e analisados de forma mais eficaz."
      ],
      "metadata": {
        "id": "axlqmXC6CWYt"
      }
    }
  ]
}